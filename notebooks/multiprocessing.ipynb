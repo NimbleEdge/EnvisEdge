{
 "cells": [
  {
   "cell_type": "code",
   "execution_count": null,
   "metadata": {},
   "outputs": [
    {
     "ename": "Error",
     "evalue": "Session cannot generate requests",
     "output_type": "error",
     "traceback": [
      "Error: Session cannot generate requests",
      "at w.executeCodeCell (/home/varun/.vscode-server/extensions/ms-toolsai.jupyter-2021.9.1101343141/out/client/extension.js:52:301180)",
      "at w.execute (/home/varun/.vscode-server/extensions/ms-toolsai.jupyter-2021.9.1101343141/out/client/extension.js:52:300551)",
      "at w.start (/home/varun/.vscode-server/extensions/ms-toolsai.jupyter-2021.9.1101343141/out/client/extension.js:52:296215)",
      "at t.CellExecutionQueue.executeQueuedCells (/home/varun/.vscode-server/extensions/ms-toolsai.jupyter-2021.9.1101343141/out/client/extension.js:52:310950)",
      "at t.CellExecutionQueue.start (/home/varun/.vscode-server/extensions/ms-toolsai.jupyter-2021.9.1101343141/out/client/extension.js:52:310490)"
     ]
    }
   ],
   "source": [
    "import signal\n",
    "import time\n",
    "import zmq\n",
    "\n",
    "\n",
    "signal.signal(signal.SIGINT, signal.SIG_DFL)\n",
    "\n",
    "context = zmq.Context()\n",
    "socket = context.socket(zmq.PUB)\n",
    "socket.bind('tcp://*:5555')\n",
    "\n",
    "for i in range(5):\n",
    "    socket.send(b'status 5')\n",
    "    socket.send(b'All is well')\n",
    "    time.sleep(1)"
   ]
  },
  {
   "cell_type": "code",
   "execution_count": 1,
   "metadata": {},
   "outputs": [
    {
     "name": "stdout",
     "output_type": "stream",
     "text": [
      "Received: [b'status 5']\n",
      "Received: [b'status 5']\n",
      "Received: [b'status 5']\n",
      "Received: [b'status 5']\n",
      "Received: [b'status 5']\n",
      "Received: [b'status 5']\n",
      "Received: [b'status 5']\n",
      "Received: [b'status 5']\n",
      "Received: [b'status 5']\n",
      "Received: [b'status 5']\n",
      "Received: [b'status 5']\n",
      "Received: [b'status 5']\n",
      "Received: [b'status 5']\n",
      "Received: [b'status 5']\n",
      "Received: [b'status 5']\n",
      "Received: [b'status 5']\n",
      "Received: [b'status 5']\n",
      "Received: [b'status 5']\n",
      "Received: [b'status 5']\n",
      "Received: [b'status 5']\n",
      "Received: [b'status 5']\n",
      "Received: [b'status 5']\n",
      "Received: [b'status 5']\n",
      "Received: [b'status 5']\n",
      "Received: [b'status 5']\n",
      "Received: [b'status 5']\n",
      "Received: [b'status 5']\n",
      "Received: [b'status 5']\n",
      "Received: [b'status 5']\n",
      "Received: [b'status 5']\n",
      "Received: [b'status 5']\n",
      "Received: [b'status 5']\n",
      "Received: [b'status 5']\n",
      "Received: [b'status 5']\n",
      "Received: [b'status 5']\n",
      "Received: [b'status 5']\n",
      "Received: [b'status 5']\n",
      "Received: [b'status 5']\n",
      "Received: [b'status 5']\n",
      "Received: [b'status 5']\n",
      "Received: [b'status 90']\n",
      "Received: [b'status 90']\n",
      "Received: [b'status 90']\n",
      "Received: [b'status 90']\n",
      "Received: [b'status 90']\n",
      "Received: [b'status 90']\n",
      "Received: [b'status 90']\n",
      "Received: [b'status 90']\n",
      "Received: [b'status 90']\n",
      "Received: [b'status 90']\n",
      "Received: [b'status 90']\n",
      "Received: [b'status 90']\n"
     ]
    }
   ],
   "source": [
    "import signal\n",
    "import zmq\n",
    "\n",
    "\n",
    "signal.signal(signal.SIGINT, signal.SIG_DFL)\n",
    "\n",
    "context = zmq.Context()\n",
    "\n",
    "socket = context.socket(zmq.SUB)\n",
    "socket.connect('tcp://localhost:5555')\n",
    "socket.setsockopt(zmq.SUBSCRIBE, b'status')\n",
    "\n",
    "while True:\n",
    "    message = socket.recv_multipart()\n",
    "    print(f'Received: {message}')"
   ]
  }
 ],
 "metadata": {
  "interpreter": {
   "hash": "24eab8fae6754f8b8de8e85d18e552fcfd621d3236cb1924b2f40ab480bb5c20"
  },
  "kernelspec": {
   "display_name": "Python 3.7.11 64-bit ('fl_strategies': conda)",
   "name": "python3"
  },
  "language_info": {
   "codemirror_mode": {
    "name": "ipython",
    "version": 3
   },
   "file_extension": ".py",
   "mimetype": "text/x-python",
   "name": "python",
   "nbconvert_exporter": "python",
   "pygments_lexer": "ipython3",
   "version": "3.7.11"
  },
  "orig_nbformat": 4
 },
 "nbformat": 4,
 "nbformat_minor": 2
}
