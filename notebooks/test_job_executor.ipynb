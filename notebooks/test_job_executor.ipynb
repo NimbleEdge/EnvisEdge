{
 "cells": [
  {
   "cell_type": "code",
   "execution_count": 11,
   "metadata": {},
   "outputs": [
    {
     "name": "stdout",
     "output_type": "stream",
     "text": [
      "['/home/varun/env/envis/lib/python3.8/site-packages/ray/thirdparty_files', '/home/varun/env/envis/lib/python3.8/site-packages/ray/pickle5_files', '/home/varun/EnvisEdge/notebooks', '/usr/lib/python38.zip', '/usr/lib/python3.8', '/usr/lib/python3.8/lib-dynload', '', '/home/varun/env/envis/lib/python3.8/site-packages', '/home/varun/.local/lib/python3.8/site-packages', '../', '../']\n"
     ]
    }
   ],
   "source": [
    "import sys\n",
    "sys.path.append(\"../\")\n",
    "print(sys.path)"
   ]
  },
  {
   "cell_type": "code",
   "execution_count": 12,
   "metadata": {},
   "outputs": [
    {
     "data": {
      "text/plain": [
       "<kafka.producer.future.FutureRecordMetadata at 0x7fd263eeddc0>"
      ]
     },
     "execution_count": 12,
     "metadata": {},
     "output_type": "execute_result"
    }
   ],
   "source": [
    "import yaml\n",
    "import json\n",
    "from json import dumps, loads\n",
    "from kafka import KafkaProducer, KafkaConsumer\n",
    "from fedrec.data_models.job_submit_model import JobSubmitMessage\n",
    "from fedrec.utilities import registry\n",
    "import fedrec\n",
    "import experiments\n",
    "import fl_strategies\n",
    "import datasets\n",
    "with open(\"../configs/regression.yml\", 'r') as cfg:\n",
    "    config = yaml.load(cfg, Loader=yaml.FullLoader)\n",
    "\n",
    "def init_kafka(config):\n",
    "    producer_url = \"{}:{}\".format(\n",
    "        config[\"producer_url\"], config[\"producer_port\"])\n",
    "    return KafkaProducer(\n",
    "        bootstrap_servers=[producer_url])\n",
    "\n",
    "# serializer = registry.construct(\"serializer\", \"json\")\n",
    "# config = config[\"multiprocessing\"][\"communications\"]\n",
    "\n",
    "producer = init_kafka(config[\"multiprocessing\"][\"communication_interface\"])\n",
    "producer.send('job-request-trainer', value=str({\"job_type\": \"test_run\",\"job_args\": [1,2]}).encode('utf-8'))\n"
   ]
  },
  {
   "cell_type": "code",
   "execution_count": 2,
   "metadata": {},
   "outputs": [
    {
     "ename": "FileNotFoundError",
     "evalue": "[Errno 2] No such file or directory: '../configs/dlrm_fl.yml'",
     "output_type": "error",
     "traceback": [
      "\u001b[0;31m---------------------------------------------------------------------------\u001b[0m",
      "\u001b[0;31mFileNotFoundError\u001b[0m                         Traceback (most recent call last)",
      "\u001b[1;32m/home/varun/EnvisEdge/notebooks/test_job_executor.ipynb Cell 3'\u001b[0m in \u001b[0;36m<module>\u001b[0;34m\u001b[0m\n\u001b[0;32m----> <a href='vscode-notebook-cell://ssh-remote%2Baws_coder/home/varun/EnvisEdge/notebooks/test_job_executor.ipynb#ch0000002vscode-remote?line=0'>1</a>\u001b[0m \u001b[39mwith\u001b[39;00m \u001b[39mopen\u001b[39;49m(\u001b[39m\"\u001b[39;49m\u001b[39m../configs/dlrm_fl.yml\u001b[39;49m\u001b[39m\"\u001b[39;49m, \u001b[39m'\u001b[39;49m\u001b[39mr\u001b[39;49m\u001b[39m'\u001b[39;49m) \u001b[39mas\u001b[39;00m cfg:\n\u001b[1;32m      <a href='vscode-notebook-cell://ssh-remote%2Baws_coder/home/varun/EnvisEdge/notebooks/test_job_executor.ipynb#ch0000002vscode-remote?line=1'>2</a>\u001b[0m     config \u001b[39m=\u001b[39m yaml\u001b[39m.\u001b[39mload(cfg, Loader\u001b[39m=\u001b[39myaml\u001b[39m.\u001b[39mFullLoader)\n\u001b[1;32m      <a href='vscode-notebook-cell://ssh-remote%2Baws_coder/home/varun/EnvisEdge/notebooks/test_job_executor.ipynb#ch0000002vscode-remote?line=3'>4</a>\u001b[0m ag_config \u001b[39m=\u001b[39m {\n\u001b[1;32m      <a href='vscode-notebook-cell://ssh-remote%2Baws_coder/home/varun/EnvisEdge/notebooks/test_job_executor.ipynb#ch0000002vscode-remote?line=4'>5</a>\u001b[0m         \u001b[39m# Seed for RNG used in shuffling the training data.\u001b[39;00m\n\u001b[1;32m      <a href='vscode-notebook-cell://ssh-remote%2Baws_coder/home/varun/EnvisEdge/notebooks/test_job_executor.ipynb#ch0000002vscode-remote?line=5'>6</a>\u001b[0m     \u001b[39m\"\u001b[39m\u001b[39mdata_seed\u001b[39m\u001b[39m\"\u001b[39m : \u001b[39m100\u001b[39m,\n\u001b[0;32m   (...)\u001b[0m\n\u001b[1;32m     <a href='vscode-notebook-cell://ssh-remote%2Baws_coder/home/varun/EnvisEdge/notebooks/test_job_executor.ipynb#ch0000002vscode-remote?line=10'>11</a>\u001b[0m     \u001b[39m\"\u001b[39m\u001b[39mmodel_seed\u001b[39m\u001b[39m\"\u001b[39m : \u001b[39m100\u001b[39m\n\u001b[1;32m     <a href='vscode-notebook-cell://ssh-remote%2Baws_coder/home/varun/EnvisEdge/notebooks/test_job_executor.ipynb#ch0000002vscode-remote?line=11'>12</a>\u001b[0m }\n",
      "\u001b[0;31mFileNotFoundError\u001b[0m: [Errno 2] No such file or directory: '../configs/dlrm_fl.yml'"
     ]
    }
   ],
   "source": [
    "with open(\"../configs/dlrm_fl.yml\", 'r') as cfg:\n",
    "    config = yaml.load(cfg, Loader=yaml.FullLoader)\n",
    "\n",
    "ag_config = {\n",
    "        # Seed for RNG used in shuffling the training data.\n",
    "    \"data_seed\" : 100,\n",
    "    # Seed for RNG used in initializing the model.\n",
    "    \"init_seed\" : 100,\n",
    "    # Seed for RNG used in computing the model's training loss.\n",
    "    # Only relevant with internal randomness in the model, e.g. with dropout.\n",
    "    \"model_seed\" : 100\n",
    "}\n"
   ]
  },
  {
   "cell_type": "code",
   "execution_count": 3,
   "metadata": {},
   "outputs": [],
   "source": [
    "from fedrec.utilities.serialization_utils import Serializable\n",
    "\n",
    "class A(Serializable):\n",
    "    def __init__(self, a, b):\n",
    "        super().__init__()\n",
    "        self.a = a\n",
    "        self.b = b\n",
    "\n",
    "class B(A):\n",
    "    def __init__(self, a, b, c):\n",
    "        super().__init__(a, b)\n",
    "        self.c = c"
   ]
  },
  {
   "cell_type": "code",
   "execution_count": 4,
   "metadata": {},
   "outputs": [],
   "source": [
    "obj = B(1,2,3)\n"
   ]
  },
  {
   "cell_type": "code",
   "execution_count": 5,
   "metadata": {},
   "outputs": [
    {
     "data": {
      "text/plain": [
       "(__main__.A,)"
      ]
     },
     "execution_count": 5,
     "metadata": {},
     "output_type": "execute_result"
    }
   ],
   "source": [
    "obj.__class__.__bases__"
   ]
  },
  {
   "cell_type": "code",
   "execution_count": 13,
   "metadata": {},
   "outputs": [],
   "source": [
    "class A:\n",
    "    def __init__(self):\n",
    "        print(\"A\")\n",
    "\n",
    "class B(A):\n",
    "    def __init__(self):\n",
    "        print(\"B\")\n",
    "        super().__init__()\n",
    "        \n",
    "    def power(self):\n",
    "        print(\"power\")\n",
    "        \n",
    "class C(B):\n",
    "    def __init__(self):\n",
    "        print(\"C\")\n",
    "        super().__init__()\n",
    "        "
   ]
  },
  {
   "cell_type": "code",
   "execution_count": 14,
   "metadata": {},
   "outputs": [
    {
     "name": "stdout",
     "output_type": "stream",
     "text": [
      "C\n",
      "B\n",
      "A\n"
     ]
    }
   ],
   "source": [
    "object = C()"
   ]
  },
  {
   "cell_type": "code",
   "execution_count": 2,
   "metadata": {},
   "outputs": [],
   "source": [
    "dic = {'__type__': 'JobSubmitMessage', '__data__': {'job_type': 'train', 'job_args': [], 'job_kwargs': {}, 'senderid': 0, 'receiverid': 0, 'workerstate': {'__type__': 'TrainerState', '__data__': {'id': 0, 'round_idx': 0, 'state_dict': {'model': '/home/ramesht/dump_tensor/worker_id_0/0_0_trainer.pt', 'step': 10}, 'storage': '/home/ramesht/dump_tensor/worker_id_0', 'model_preproc': {'__type__': 'RegressionPreprocessor', '__data__': {'proc_config': {'name': 'regression'}, 'client_id': 0, 'dataset_config': {'name': 'femnist', 'data_dir': '/home/ubuntu/dataset/femnist', 'splits': ['train', 'test', 'val']}}}, 'local_sample_number': None, 'local_training_steps': 10}}}}"
   ]
  },
  {
   "cell_type": "code",
   "execution_count": 5,
   "metadata": {},
   "outputs": [
    {
     "name": "stdout",
     "output_type": "stream",
     "text": [
      "JobSubmitMessage\n"
     ]
    }
   ],
   "source": [
    "if \"__type__\" in dic:\n",
    "    type = dic[\"__type__\"]\n",
    "\n",
    "print(type)"
   ]
  },
  {
   "cell_type": "code",
   "execution_count": null,
   "metadata": {},
   "outputs": [],
   "source": []
  }
 ],
 "metadata": {
  "interpreter": {
   "hash": "51531c554075179001860b6fe6c704d2e9ab2c7b904341e6ce5ef1aa017c6f81"
  },
  "kernelspec": {
   "display_name": "Python 3.8.12 64-bit ('recoedge': conda)",
   "language": "python",
   "name": "python3"
  },
  "language_info": {
   "codemirror_mode": {
    "name": "ipython",
    "version": 3
   },
   "file_extension": ".py",
   "mimetype": "text/x-python",
   "name": "python",
   "nbconvert_exporter": "python",
   "pygments_lexer": "ipython3",
   "version": "3.8.10"
  },
  "orig_nbformat": 4
 },
 "nbformat": 4,
 "nbformat_minor": 2
}
