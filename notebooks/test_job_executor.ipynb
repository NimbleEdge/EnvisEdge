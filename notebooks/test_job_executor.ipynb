{
 "cells": [
  {
   "cell_type": "code",
   "execution_count": null,
   "metadata": {},
   "outputs": [],
   "source": [
    "import sys\n",
    "sys.path.append(\"../\")\n",
    "print(sys.path)"
   ]
  },
  {
   "cell_type": "code",
   "execution_count": null,
   "metadata": {},
   "outputs": [],
   "source": [
    "import yaml\n",
    "import json\n",
    "from json import dumps, loads\n",
    "from kafka import KafkaProducer, KafkaConsumer\n",
    "from fedrec.communications.messages import JobSubmitMessage\n",
    "from fedrec.utilities import registry\n",
    "\n",
    "with open(\"../configs/dlrm_fl.yml\", 'r') as cfg:\n",
    "    config = yaml.load(cfg, Loader=yaml.FullLoader)\n",
    "\n",
    "def init_kafka(config):\n",
    "    producer_url = \"{}:{}\".format(\n",
    "        config[\"producer_url\"], config[\"producer_port\"])\n",
    "    return KafkaProducer(\n",
    "        bootstrap_servers=[producer_url])\n",
    "\n",
    "serializer = registry.construct(\"serializer\", \"json\")\n",
    "# config = config[\"multiprocessing\"][\"communications\"]\n",
    "\n",
    "producer = init_kafka(config[\"multiprocessing\"][\"communications\"])\n",
    "producer.send('job-request-trainer', value=serializer.serialize(JobSubmitMessage(\"test_run\",[1,2],{},\"id1\",\"id2\",None)))\n",
    "producer.send('job-request-aggregator', value=serializer.serialize(JobSubmitMessage(\"test_run\",[1,2],{},\"id1\",\"id2\",None)))\n"
   ]
  },
  {
   "cell_type": "code",
   "execution_count": null,
   "metadata": {},
   "outputs": [],
   "source": [
    "with open(\"../configs/dlrm_fl.yml\", 'r') as cfg:\n",
    "    config = yaml.load(cfg, Loader=yaml.FullLoader)\n",
    "\n",
    "ag_config = {\n",
    "        # Seed for RNG used in shuffling the training data.\n",
    "    \"data_seed\" : 100,\n",
    "    # Seed for RNG used in initializing the model.\n",
    "    \"init_seed\" : 100,\n",
    "    # Seed for RNG used in computing the model's training loss.\n",
    "    # Only relevant with internal randomness in the model, e.g. with dropout.\n",
    "    \"model_seed\" : 100\n",
    "}\n"
   ]
  }
 ],
 "metadata": {
  "interpreter": {
   "hash": "51531c554075179001860b6fe6c704d2e9ab2c7b904341e6ce5ef1aa017c6f81"
  },
  "kernelspec": {
   "display_name": "Python 3.8.12 64-bit ('recoedge': conda)",
   "language": "python",
   "name": "python3"
  },
  "language_info": {
   "codemirror_mode": {
    "name": "ipython",
    "version": 3
   },
   "file_extension": ".py",
   "mimetype": "text/x-python",
   "name": "python",
   "nbconvert_exporter": "python",
   "pygments_lexer": "ipython3",
   "version": "3.8.12"
  },
  "orig_nbformat": 4
 },
 "nbformat": 4,
 "nbformat_minor": 2
}
