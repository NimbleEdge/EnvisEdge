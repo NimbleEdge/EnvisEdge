{
 "cells": [
  {
   "cell_type": "code",
   "execution_count": null,
   "metadata": {},
   "outputs": [],
   "source": [
    "import sys\n",
    "sys.path.append(\"../\")\n",
    "print(sys.path)"
   ]
  },
  {
   "cell_type": "code",
   "execution_count": null,
   "metadata": {},
   "outputs": [],
   "source": [
    "import yaml\n",
    "import json\n",
    "from json import dumps, loads\n",
    "from kafka import KafkaProducer, KafkaConsumer\n",
    "from fedrec.data_models.job_submit_model import JobSubmitMessage\n",
    "from fedrec.utilities import registry\n",
    "import fedrec\n",
    "import experiments\n",
    "import fl_strategies\n",
    "import datasets\n",
    "with open(\"../configs/regression.yml\", 'r') as cfg:\n",
    "    config = yaml.load(cfg, Loader=yaml.FullLoader)\n",
    "\n",
    "def init_kafka(config):\n",
    "    producer_url = \"{}:{}\".format(\n",
    "        config[\"producer_url\"], config[\"producer_port\"])\n",
    "    return KafkaProducer(\n",
    "        bootstrap_servers=[producer_url])\n",
    "\n",
    "# serializer = registry.construct(\"serializer\", \"json\")\n",
    "# config = config[\"multiprocessing\"][\"communications\"]\n",
    "\n",
    "producer = init_kafka(config[\"multiprocessing\"][\"communication_interface\"])\n",
    "producer.send('job-response-trainer', value=str({\"job_type\":\"train\", \"results\": {},\"error\": [1,2]}).encode('utf-8'))\n"
   ]
  },
  {
   "cell_type": "code",
   "execution_count": null,
   "metadata": {},
   "outputs": [],
   "source": [
    "with open(\"../configs/dlrm_fl.yml\", 'r') as cfg:\n",
    "    config = yaml.load(cfg, Loader=yaml.FullLoader)\n",
    "\n",
    "ag_config = {\n",
    "        # Seed for RNG used in shuffling the training data.\n",
    "    \"data_seed\" : 100,\n",
    "    # Seed for RNG used in initializing the model.\n",
    "    \"init_seed\" : 100,\n",
    "    # Seed for RNG used in computing the model's training loss.\n",
    "    # Only relevant with internal randomness in the model, e.g. with dropout.\n",
    "    \"model_seed\" : 100\n",
    "}\n"
   ]
  },
  {
   "cell_type": "code",
   "execution_count": null,
   "metadata": {},
   "outputs": [],
   "source": [
    "from fedrec.utilities.serialization_utils import Serializable\n",
    "\n",
    "class A(Serializable):\n",
    "    def __init__(self, a, b):\n",
    "        super().__init__()\n",
    "        self.a = a\n",
    "        self.b = b\n",
    "\n",
    "class B(A):\n",
    "    def __init__(self, a, b, c):\n",
    "        super().__init__(a, b)\n",
    "        self.c = c"
   ]
  },
  {
   "cell_type": "code",
   "execution_count": null,
   "metadata": {},
   "outputs": [],
   "source": [
    "obj = B(1,2,3)\n"
   ]
  },
  {
   "cell_type": "code",
   "execution_count": null,
   "metadata": {},
   "outputs": [],
   "source": [
    "obj.__class__.__bases__"
   ]
  },
  {
   "cell_type": "code",
   "execution_count": null,
   "metadata": {},
   "outputs": [],
   "source": [
    "class A:\n",
    "    def __init__(self):\n",
    "        print(\"A\")\n",
    "\n",
    "class B(A):\n",
    "    def __init__(self):\n",
    "        print(\"B\")\n",
    "        super().__init__()\n",
    "        \n",
    "    def power(self):\n",
    "        print(\"power\")\n",
    "        \n",
    "class C(B):\n",
    "    def __init__(self):\n",
    "        print(\"C\")\n",
    "        super().__init__()\n",
    "        "
   ]
  },
  {
   "cell_type": "code",
   "execution_count": null,
   "metadata": {},
   "outputs": [],
   "source": [
    "object = C()"
   ]
  },
  {
   "cell_type": "code",
   "execution_count": null,
   "metadata": {},
   "outputs": [],
   "source": [
    "dic = {'__type__': 'JobSubmitMessage', '__data__': {'job_type': 'train', 'job_args': [], 'job_kwargs': {}, 'senderid': 0, 'receiverid': 0, 'workerstate': {'__type__': 'TrainerState', '__data__': {'id': 0, 'round_idx': 0, 'state_dict': {'model': '/home/ramesht/dump_tensor/worker_id_0/0_0_trainer.pt', 'step': 10}, 'storage': '/home/ramesht/dump_tensor/worker_id_0', 'model_preproc': {'__type__': 'RegressionPreprocessor', '__data__': {'proc_config': {'name': 'regression'}, 'client_id': 0, 'dataset_config': {'name': 'femnist', 'data_dir': '/home/ubuntu/dataset/femnist', 'splits': ['train', 'test', 'val']}}}, 'local_sample_number': None, 'local_training_steps': 10}}}}"
   ]
  },
  {
   "cell_type": "code",
   "execution_count": null,
   "metadata": {},
   "outputs": [],
   "source": [
    "for key in dic:\n",
    "    print(key)"
   ]
  },
  {
   "cell_type": "code",
   "execution_count": null,
   "metadata": {},
   "outputs": [],
   "source": [
    "if \"__type__\" in dic:\n",
    "    type = dic[\"__type__\"]\n",
    "\n",
    "print(type)"
   ]
  },
  {
   "cell_type": "code",
   "execution_count": null,
   "metadata": {},
   "outputs": [],
   "source": [
    "{'__type__': 'JobSubmitMessage', '__data__': {'job_type': 'train', 'job_args': [], 'job_kwargs': {}, 'senderid': 0, 'receiverid': 0, 'workerstate': {'__type__': 'TrainerState', '__data__': {'id': 0, 'round_idx': 0, 'state_dict': {'model': '/home/ramesht/dump_tensor/worker_id_0/0_0_trainer.pt', 'step': 10}, 'storage': '/home/ramesht/dump_tensor/worker_id_0', 'model_preproc': {'__type__': 'RegressionPreprocessor', '__data__': {'proc_config': {'name': 'regression'}, 'client_id': 0, 'dataset_config': {'name': 'femnist', 'data_dir': '/home/ubuntu/dataset/femnist', 'splits': ['train', 'test', 'val']}}}, 'local_sample_number': None, 'local_training_steps': 10}}}}"
   ]
  },
  {
   "cell_type": "code",
   "execution_count": null,
   "metadata": {},
   "outputs": [],
   "source": []
  }
 ],
 "metadata": {
  "interpreter": {
   "hash": "51531c554075179001860b6fe6c704d2e9ab2c7b904341e6ce5ef1aa017c6f81"
  },
  "kernelspec": {
   "display_name": "Python 3.8.12 64-bit ('recoedge': conda)",
   "language": "python",
   "name": "python3"
  },
  "language_info": {
   "codemirror_mode": {
    "name": "ipython",
    "version": 3
   },
   "file_extension": ".py",
   "mimetype": "text/x-python",
   "name": "python",
   "nbconvert_exporter": "python",
   "pygments_lexer": "ipython3",
   "version": "3.8.10"
  },
  "orig_nbformat": 4
 },
 "nbformat": 4,
 "nbformat_minor": 2
}
