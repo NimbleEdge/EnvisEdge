{
 "cells": [
  {
   "cell_type": "code",
   "execution_count": 2,
   "metadata": {},
   "outputs": [
    {
     "name": "stdout",
     "output_type": "stream",
     "text": [
      "['/home/varun/EnvisEdge/notebooks', '/home/varun/EnvisEdge/notebooks', '/usr/lib/python38.zip', '/usr/lib/python3.8', '/usr/lib/python3.8/lib-dynload', '', '/home/varun/env/envis/lib/python3.8/site-packages', '/home/varun/.local/lib/python3.8/site-packages', '../']\n"
     ]
    }
   ],
   "source": [
    "import sys\n",
    "sys.path.append(\"../\")\n",
    "print(sys.path)"
   ]
  },
  {
   "cell_type": "code",
   "execution_count": null,
   "metadata": {},
   "outputs": [],
   "source": [
    "import yaml\n",
    "import json\n",
    "from json import dumps, loads\n",
    "from kafka import KafkaProducer, KafkaConsumer\n",
    "from fedrec.data_models.job_submit_model import JobSubmitMessage\n",
    "from fedrec.utilities import registry\n",
    "import fedrec\n",
    "import experiments\n",
    "import fl_strategies\n",
    "import datasets\n",
    "with open(\"../configs/regression.yml\", 'r') as cfg:\n",
    "    config = yaml.load(cfg, Loader=yaml.FullLoader)\n",
    "\n",
    "def init_kafka(config):\n",
    "    producer_url = \"{}:{}\".format(\n",
    "        config[\"producer_url\"], config[\"producer_port\"])\n",
    "    return KafkaProducer(\n",
    "        bootstrap_servers=[producer_url])\n",
    "\n",
    "# serializer = registry.construct(\"serializer\", \"json\")\n",
    "# config = config[\"multiprocessing\"][\"communications\"]\n",
    "\n",
    "producer = init_kafka(config[\"multiprocessing\"][\"communication_interface\"])\n",
    "producer.send('job-request-aggregator', value=str({\"job_type\":\"train\", \"results\": {},\"error\": [1,2]}).encode('utf-8'))\n"
   ]
  },
  {
   "cell_type": "code",
   "execution_count": null,
   "metadata": {},
   "outputs": [],
   "source": [
    "def init_kafka(config):\n",
    "    consumer_url = \"{}:{}\".format(\n",
    "        config[\"consumer_url\"], config[\"consumer_port\"])\n",
    "    return KafkaConsumer(\n",
    "        bootstrap_servers=[consumer_url])\n",
    "\n"
   ]
  },
  {
   "cell_type": "code",
   "execution_count": 3,
   "metadata": {},
   "outputs": [
    {
     "name": "stdout",
     "output_type": "stream",
     "text": [
      "{'__class__': <class 'fl_strategies.fed_avg.FedAvg'>, '__delattr__': <method-wrapper '__delattr__' of FedAvg object at 0x7f59e047f0d0>, '__dir__': <built-in method __dir__ of FedAvg object at 0x7f59e047f0d0>, '__eq__': <method-wrapper '__eq__' of FedAvg object at 0x7f59e047f0d0>, '__format__': <built-in method __format__ of FedAvg object at 0x7f59e047f0d0>, '__ge__': <method-wrapper '__ge__' of FedAvg object at 0x7f59e047f0d0>, '__getattribute__': <method-wrapper '__getattribute__' of FedAvg object at 0x7f59e047f0d0>, '__gt__': <method-wrapper '__gt__' of FedAvg object at 0x7f59e047f0d0>, '__hash__': <method-wrapper '__hash__' of FedAvg object at 0x7f59e047f0d0>, '__init__': <bound method FedAvg.__init__ of <fl_strategies.fed_avg.FedAvg object at 0x7f59e047f0d0>>, '__init_subclass__': <built-in method __init_subclass__ of type object at 0x6811f50>, '__le__': <method-wrapper '__le__' of FedAvg object at 0x7f59e047f0d0>, '__lt__': <method-wrapper '__lt__' of FedAvg object at 0x7f59e047f0d0>, '__ne__': <method-wrapper '__ne__' of FedAvg object at 0x7f59e047f0d0>, '__new__': <built-in method __new__ of type object at 0x9075a0>, '__reduce__': <built-in method __reduce__ of FedAvg object at 0x7f59e047f0d0>, '__reduce_ex__': <built-in method __reduce_ex__ of FedAvg object at 0x7f59e047f0d0>, '__repr__': <method-wrapper '__repr__' of FedAvg object at 0x7f59e047f0d0>, '__setattr__': <method-wrapper '__setattr__' of FedAvg object at 0x7f59e047f0d0>, '__sizeof__': <built-in method __sizeof__ of FedAvg object at 0x7f59e047f0d0>, '__str__': <method-wrapper '__str__' of FedAvg object at 0x7f59e047f0d0>, '__subclasshook__': <built-in method __subclasshook__ of type object at 0x6811f50>, '_get_default_state': <bound method EnvisBase._get_default_state of <fl_strategies.fed_avg.FedAvg object at 0x7f59e047f0d0>>, '_set_state': <bound method EnvisBase._set_state of <fl_strategies.fed_avg.FedAvg object at 0x7f59e047f0d0>>, 'aggregate': <bound method FedAvg.aggregate of <fl_strategies.fed_avg.FedAvg object at 0x7f59e047f0d0>>, 'model': Regression_Net(\n",
      "  (linear): Linear(in_features=49152, out_features=62, bias=True)\n",
      "  (loss_fn): CrossEntropyLoss()\n",
      "), 'sample_clients': <bound method FedAvg.sample_clients of <fl_strategies.fed_avg.FedAvg object at 0x7f59e047f0d0>>, 'store_state': <bound method FedAvg.store_state of <fl_strategies.fed_avg.FedAvg object at 0x7f59e047f0d0>>, 'update': <bound method EnvisBase.update of <fl_strategies.fed_avg.FedAvg object at 0x7f59e047f0d0>>}\n",
      "*****************************\n",
      "{'__init__': <bound method FedAvg.__init__ of <fl_strategies.fed_avg.FedAvg object at 0x7f59e047f0d0>>, '_get_default_state': <bound method EnvisBase._get_default_state of <fl_strategies.fed_avg.FedAvg object at 0x7f59e047f0d0>>, '_set_state': <bound method EnvisBase._set_state of <fl_strategies.fed_avg.FedAvg object at 0x7f59e047f0d0>>, 'aggregate': <bound method FedAvg.aggregate of <fl_strategies.fed_avg.FedAvg object at 0x7f59e047f0d0>>, 'sample_clients': <bound method FedAvg.sample_clients of <fl_strategies.fed_avg.FedAvg object at 0x7f59e047f0d0>>, 'store_state': <bound method FedAvg.store_state of <fl_strategies.fed_avg.FedAvg object at 0x7f59e047f0d0>>, 'update': <bound method EnvisBase.update of <fl_strategies.fed_avg.FedAvg object at 0x7f59e047f0d0>>}\n"
     ]
    }
   ],
   "source": [
    "from fedrec.python_executors.aggregator import Aggregator, Neighbour\n",
    "from fedrec.utilities.logger import NoOpLogger\n",
    "from fedrec.data_models.state_tensors_model import StateTensors\n",
    "from inspect import ismethod, getmembers, isfunction\n",
    "from fedrec.utilities import registry\n",
    "import torch\n",
    "import yaml \n",
    "\n",
    "import fedrec\n",
    "import experiments\n",
    "import fl_strategies\n",
    "import datasets\n",
    "\n",
    "with open(\"../configs/regression.yml\", 'r') as cfg:\n",
    "    config = yaml.load(cfg, Loader=yaml.FullLoader)\n",
    "\n",
    "ag_config = {\n",
    "        # Seed for RNG used in shuffling the training data.\n",
    "    \"data_seed\" : 100,\n",
    "    # Seed for RNG used in initializing the model.\n",
    "    \"init_seed\" : 100,\n",
    "    # Seed for RNG used in computing the model's training loss.\n",
    "    # Only relevant with internal randomness in the model, e.g. with dropout.\n",
    "    \"model_seed\" : 100\n",
    "}\n",
    "tensor = StateTensors(\n",
    "        storage='/home/varun/dump_tensor/',\n",
    "        worker_id=0, round_idx=0,\n",
    "        tensors=torch.load(\n",
    "            '/home/varun/dump_tensor/worker_id_0/0_0_trainer45.pt'),\n",
    "        tensor_type='trainer',\n",
    "        suffix=\"41\")\n",
    "\n",
    "in_neighbours={\n",
    "            0: Neighbour(0, tensor, 5)}\n",
    "worker=registry.construct('aggregator',\n",
    "                        config['aggregator'],\n",
    "                        unused_keys=(),\n",
    "                        config_dict=config,\n",
    "                        in_neighbours=in_neighbours,\n",
    "                        out_neighbours={})\n",
    "print({\n",
    "    func_name: getattr(worker, func_name)\n",
    "    for func_name in dir(worker)\n",
    "    if callable(getattr(worker, func_name))\n",
    "})\n",
    "\n",
    "print(\"*****************************\")\n",
    "\n",
    "print(\n",
    "    {\n",
    "    func_name_list[0]: getattr(worker, func_name_list[0])\n",
    "    for func_name_list in getmembers(worker, predicate=ismethod)\n",
    "}\n",
    ")"
   ]
  },
  {
   "cell_type": "code",
   "execution_count": 5,
   "metadata": {},
   "outputs": [
    {
     "data": {
      "text/plain": [
       "OrderedDict([('linear.weight',\n",
       "              tensor([[-3.5032e-03,  2.8493e-03, -2.1420e-03,  ...,  1.8189e-03,\n",
       "                       -1.2349e-03,  2.6494e-03],\n",
       "                      [ 3.1096e-04, -2.0320e-03,  2.3399e-03,  ...,  2.0728e-04,\n",
       "                        4.3427e-03,  2.9067e-03],\n",
       "                      [ 2.6587e-03,  1.9943e-03, -4.1135e-03,  ..., -3.5328e-03,\n",
       "                        4.0412e-03,  7.1525e-04],\n",
       "                      ...,\n",
       "                      [ 7.3106e-04,  2.0794e-03,  4.4299e-03,  ...,  2.2707e-03,\n",
       "                        5.5192e-04, -7.1536e-04],\n",
       "                      [ 3.8169e-03, -4.4200e-03,  1.8631e-03,  ...,  5.1484e-05,\n",
       "                       -2.4404e-03,  1.1300e-03],\n",
       "                      [-2.8825e-03,  1.7598e-03, -4.4298e-03,  ...,  4.4470e-03,\n",
       "                       -1.6544e-03, -3.6399e-03]])),\n",
       "             ('linear.bias',\n",
       "              tensor([-6.9212e-04,  4.0743e-03,  3.0846e-03, -3.5231e-03,  2.6282e-03,\n",
       "                       3.7401e-03,  7.2453e-04, -2.7463e-03, -2.5216e-03,  2.5985e-03,\n",
       "                      -2.7964e-03, -1.2173e-03,  1.2762e-03, -4.0548e-03, -2.1191e-03,\n",
       "                       4.3652e-03, -4.2024e-03,  9.7876e-04,  1.0321e-03,  4.2382e-03,\n",
       "                       1.8561e-05, -1.2254e-03, -5.1956e-04,  1.0804e-03, -1.7188e-03,\n",
       "                       3.9284e-03,  3.6198e-03,  4.3929e-03,  2.5090e-03,  3.2887e-04,\n",
       "                       7.7898e-04,  2.1385e-03, -3.4073e-04, -4.2240e-03, -1.3861e-03,\n",
       "                      -2.2850e-03,  2.1153e-03,  3.0715e-03,  1.0446e-04,  1.6009e-03,\n",
       "                       2.5817e-03,  2.7544e-03,  3.0882e-03, -2.4599e-03, -2.9022e-03,\n",
       "                       2.8366e-04,  1.3417e-03,  3.8172e-03, -5.3315e-04, -3.7459e-03,\n",
       "                      -4.8189e-04,  2.0285e-03, -1.6935e-03, -3.3144e-03, -3.7652e-03,\n",
       "                       3.8619e-03,  4.1517e-03,  7.0429e-04,  3.7793e-03, -2.1339e-03,\n",
       "                      -1.9593e-03, -5.6267e-04]))])"
      ]
     },
     "execution_count": 5,
     "metadata": {},
     "output_type": "execute_result"
    }
   ],
   "source": [
    "worker.model.load_state_dict(tensor.tensors)"
   ]
  },
  {
   "cell_type": "code",
   "execution_count": 7,
   "metadata": {},
   "outputs": [],
   "source": [
    "tensor = StateTensors(\n",
    "        storage='/home/varun/dump_tensor/',\n",
    "        worker_id=0, round_idx=0,\n",
    "        tensors=torch.load(\n",
    "            '/home/varun/dump_tensor/user-module_1.pt'),\n",
    "        tensor_type='trainer',\n",
    "        suffix=\"41\")"
   ]
  },
  {
   "cell_type": "code",
   "execution_count": 9,
   "metadata": {},
   "outputs": [
    {
     "data": {
      "text/plain": [
       "'/home/varun/dump_tensor/test.pt'"
      ]
     },
     "execution_count": 9,
     "metadata": {},
     "output_type": "execute_result"
    }
   ],
   "source": [
    "from fedrec.utilities.io_utils import save_tensors\n",
    "save_tensors(worker.model.state_dict(), '/home/varun/dump_tensor/test.pt')"
   ]
  }
 ],
 "metadata": {
  "interpreter": {
   "hash": "51531c554075179001860b6fe6c704d2e9ab2c7b904341e6ce5ef1aa017c6f81"
  },
  "kernelspec": {
   "display_name": "Python 3.8.12 64-bit ('recoedge': conda)",
   "language": "python",
   "name": "python3"
  },
  "language_info": {
   "codemirror_mode": {
    "name": "ipython",
    "version": 3
   },
   "file_extension": ".py",
   "mimetype": "text/x-python",
   "name": "python",
   "nbconvert_exporter": "python",
   "pygments_lexer": "ipython3",
   "version": "3.8.10"
  },
  "orig_nbformat": 4
 },
 "nbformat": 4,
 "nbformat_minor": 2
}
