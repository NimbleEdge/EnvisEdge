{
 "cells": [
  {
   "cell_type": "code",
   "execution_count": 22,
   "id": "46abb77e-d6d2-456a-8737-7058e12d3e72",
   "metadata": {},
   "outputs": [],
   "source": [
    "from producer import Producer\n",
    "from consumer import Consumer\n",
    "import asyncio\n",
    "from mpi4py import MPI"
   ]
  },
  {
   "cell_type": "code",
   "execution_count": 20,
   "id": "d49e8741-5872-4006-aa02-8d2aa661b330",
   "metadata": {},
   "outputs": [],
   "source": [
    "producer = Producer()\n",
    "consumer = Consumer()"
   ]
  },
  {
   "cell_type": "code",
   "execution_count": 23,
   "id": "12a9b246-4dbd-41bd-ace1-50fea19f08cf",
   "metadata": {},
   "outputs": [],
   "source": [
    "loop = asyncio.get_event_loop()"
   ]
  },
  {
   "cell_type": "code",
   "execution_count": null,
   "id": "ba4464c1-637b-47fc-adf6-e0295290e3d6",
   "metadata": {},
   "outputs": [],
   "source": [
    "async def consume() -> None:\n",
    "        while True:\n",
    "            job_request = producer.receive_message()\n",
    "            if job_request is not None:\n",
    "                if job_request.JOB_TYPE == \"STOP\":\n",
    "                    # Runs current batch of callbacks and then exit\n",
    "                    loop.stop()"
   ]
  }
 ],
 "metadata": {
  "kernelspec": {
   "display_name": "Python 3 (ipykernel)",
   "language": "python",
   "name": "python3"
  },
  "language_info": {
   "codemirror_mode": {
    "name": "ipython",
    "version": 3
   },
   "file_extension": ".py",
   "mimetype": "text/x-python",
   "name": "python",
   "nbconvert_exporter": "python",
   "pygments_lexer": "ipython3",
   "version": "3.9.7"
  }
 },
 "nbformat": 4,
 "nbformat_minor": 5
}
