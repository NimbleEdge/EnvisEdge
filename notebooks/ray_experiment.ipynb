{
 "cells": [
  {
   "cell_type": "code",
   "execution_count": 1,
   "metadata": {},
   "outputs": [],
   "source": [
    "import ray\n"
   ]
  },
  {
   "cell_type": "code",
   "execution_count": 3,
   "metadata": {},
   "outputs": [
    {
     "data": {
      "text/plain": [
       "ObjectRef(63964fa4841d4a2e59229e3d057d393869f45ab50100000001000000)"
      ]
     },
     "execution_count": 3,
     "metadata": {},
     "output_type": "execute_result"
    },
    {
     "name": "stdout",
     "output_type": "stream",
     "text": [
      "\u001b[2m\u001b[36m(SimpleClass pid=98259)\u001b[0m 3\n"
     ]
    }
   ],
   "source": [
    "class SimpleClass:\n",
    "    def __init__(self, value):\n",
    "        self.value = value\n",
    "\n",
    "    def increase(self):\n",
    "        self.value += 1\n",
    "        print(self.value)\n",
    "ray.init()      \n",
    "SimpleClass = ray.remote(SimpleClass)\n",
    "obj = SimpleClass.remote(2)\n",
    "obj.increase.remote()\n",
    "getattr(obj, \"increase\").remote()\n",
    "ray.shutdown()"
   ]
  },
  {
   "cell_type": "code",
   "execution_count": null,
   "metadata": {},
   "outputs": [],
   "source": [
    "from fedrec.multiprocessing.process_manager import RayProcessManager\n",
    "rpm  = RayProcessManager()\n"
   ]
  }
 ],
 "metadata": {
  "language_info": {
   "name": "python"
  },
  "orig_nbformat": 4
 },
 "nbformat": 4,
 "nbformat_minor": 2
}
