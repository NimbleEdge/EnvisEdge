{
 "cells": [
  {
   "cell_type": "code",
   "execution_count": 1,
   "metadata": {},
   "outputs": [
    {
     "data": {
      "text/plain": [
       "{'node_ip_address': '10.160.0.3',\n",
       " 'raylet_ip_address': '10.160.0.3',\n",
       " 'redis_address': '10.160.0.3:6379',\n",
       " 'object_store_address': '/tmp/ray/session_2021-11-14_21-55-27_449565_105374/sockets/plasma_store',\n",
       " 'raylet_socket_name': '/tmp/ray/session_2021-11-14_21-55-27_449565_105374/sockets/raylet',\n",
       " 'webui_url': None,\n",
       " 'session_dir': '/tmp/ray/session_2021-11-14_21-55-27_449565_105374',\n",
       " 'metrics_export_port': 56385,\n",
       " 'node_id': 'fc6def2b76f66959965a34b10df5004779910179984c64f10920f4a6'}"
      ]
     },
     "execution_count": 1,
     "metadata": {},
     "output_type": "execute_result"
    }
   ],
   "source": [
    "import ray\n",
    "ray.init(ignore_reinit_error=True)"
   ]
  },
  {
   "cell_type": "code",
   "execution_count": 6,
   "metadata": {},
   "outputs": [
    {
     "data": {
      "text/plain": [
       "ObjectRef(69a6825d641b4613ffffffffffffffffffffffff0100000001000000)"
      ]
     },
     "execution_count": 6,
     "metadata": {},
     "output_type": "execute_result"
    },
    {
     "name": "stderr",
     "output_type": "stream",
     "text": [
      "\u001b[2m\u001b[36m(pid=105961)\u001b[0m WARNING <class 'fedrec.communications.kafka_interfaces.Kafka'>: superfluous {'cosnumer_group_id': 'My-group-id'}\n",
      "\u001b[2m\u001b[36m(pid=105961)\u001b[0m 2021-11-14 21:58:19,911\tERROR worker.py:425 -- Exception raised in creation task: The actor died because of an error raised in its creation task, \u001b[36mray::JobExecutor.__init__()\u001b[39m (pid=105961, ip=10.160.0.3)\n",
      "\u001b[2m\u001b[36m(pid=105961)\u001b[0m   File \"/home/varun/RecoEdge/notebooks/../executor.py\", line 29, in __init__\n",
      "\u001b[2m\u001b[36m(pid=105961)\u001b[0m     self.jobber = Jobber(\n",
      "\u001b[2m\u001b[36m(pid=105961)\u001b[0m   File \"/home/varun/RecoEdge/notebooks/../fedrec/multiprocessing/jobber.py\", line 28, in __init__\n",
      "\u001b[2m\u001b[36m(pid=105961)\u001b[0m     self.comm_manager = registry.construct(\n",
      "\u001b[2m\u001b[36m(pid=105961)\u001b[0m   File \"/home/varun/RecoEdge/notebooks/../fedrec/utilities/registry.py\", line 31, in construct\n",
      "\u001b[2m\u001b[36m(pid=105961)\u001b[0m     return instantiate(\n",
      "\u001b[2m\u001b[36m(pid=105961)\u001b[0m   File \"/home/varun/RecoEdge/notebooks/../fedrec/utilities/registry.py\", line 59, in instantiate\n",
      "\u001b[2m\u001b[36m(pid=105961)\u001b[0m     return callable(**merged)\n",
      "\u001b[2m\u001b[36m(pid=105961)\u001b[0m   File \"/home/varun/RecoEdge/notebooks/../fedrec/communications/kafka_interfaces.py\", line 22, in __init__\n",
      "\u001b[2m\u001b[36m(pid=105961)\u001b[0m     self.producer = KafkaProducer(\n",
      "\u001b[2m\u001b[36m(pid=105961)\u001b[0m   File \"/home/varun/miniconda/envs/recoedge/lib/python3.8/site-packages/kafka/producer/kafka.py\", line 381, in __init__\n",
      "\u001b[2m\u001b[36m(pid=105961)\u001b[0m     client = KafkaClient(metrics=self._metrics, metric_group_prefix='producer',\n",
      "\u001b[2m\u001b[36m(pid=105961)\u001b[0m   File \"/home/varun/miniconda/envs/recoedge/lib/python3.8/site-packages/kafka/client_async.py\", line 244, in __init__\n",
      "\u001b[2m\u001b[36m(pid=105961)\u001b[0m     self.config['api_version'] = self.check_version(timeout=check_timeout)\n",
      "\u001b[2m\u001b[36m(pid=105961)\u001b[0m   File \"/home/varun/miniconda/envs/recoedge/lib/python3.8/site-packages/kafka/client_async.py\", line 900, in check_version\n",
      "\u001b[2m\u001b[36m(pid=105961)\u001b[0m     raise Errors.NoBrokersAvailable()\n",
      "\u001b[2m\u001b[36m(pid=105961)\u001b[0m kafka.errors.NoBrokersAvailable: NoBrokersAvailable\n"
     ]
    }
   ],
   "source": [
    "@ray.remote\n",
    "def run_exec():\n",
    "    import sys\n",
    "    sys.path.append('../')\n",
    "    from fl_strategies.fed_avg import FedAvg\n",
    "    import yaml\n",
    "    from experiments import dlrm \n",
    "    from fl_strategies import fed_avg\n",
    "    from fedrec.utilities.logger import NoOpLogger\n",
    "    from fedrec.python_executors.aggregator import AggregatorConfig\n",
    "\n",
    "    from fedrec.multiprocessing.process_manager import RayProcessManager\n",
    "    from executor import JobExecutor\n",
    "    with open(\"../configs/dlrm_fl.yml\", 'r') as cfg:\n",
    "        config = yaml.load(cfg, Loader=yaml.FullLoader)\n",
    "\n",
    "    ag_config = {\n",
    "            # Seed for RNG used in shuffling the training data.\n",
    "        \"data_seed\" : 100,\n",
    "        # Seed for RNG used in initializing the model.\n",
    "        \"init_seed\" : 100,\n",
    "        # Seed for RNG used in computing the model's training loss.\n",
    "        # Only relevant with internal randomness in the model, e.g. with dropout.\n",
    "        \"model_seed\" : 100\n",
    "    }\n",
    "    aggregator_cfg = AggregatorConfig(**ag_config)\n",
    "    JobExecutor = ray.remote(JobExecutor)\n",
    "    je_Aggregator = JobExecutor.remote(FedAvg,\n",
    "                                    config,\n",
    "                                    aggregator_cfg,\n",
    "                                    NoOpLogger())\n",
    "    je_Aggregator.run.remote()\n",
    "\n",
    "run_exec.remote()"
   ]
  },
  {
   "cell_type": "code",
   "execution_count": 5,
   "metadata": {},
   "outputs": [],
   "source": [
    "ray.shutdown()"
   ]
  },
  {
   "cell_type": "code",
   "execution_count": null,
   "metadata": {},
   "outputs": [],
   "source": [
    "rpm = RayProcessManager()\n",
    "rpm.distribute(JobExecutor, FedAvg.__name__, 1 ,\n",
    "                            FedAvg, config[\"model\"], aggregator_cfg, NoOpLogger())\n",
    "\n",
    "rpm.start(FedAvg.__name__, \"run\")"
   ]
  },
  {
   "cell_type": "code",
   "execution_count": null,
   "metadata": {},
   "outputs": [],
   "source": [
    "ray.shutdown()"
   ]
  }
 ],
 "metadata": {
  "language_info": {
   "name": "python"
  },
  "orig_nbformat": 4
 },
 "nbformat": 4,
 "nbformat_minor": 2
}
