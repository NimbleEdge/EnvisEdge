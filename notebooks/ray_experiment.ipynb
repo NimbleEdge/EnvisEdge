{
 "cells": [
  {
   "cell_type": "code",
   "execution_count": 11,
   "metadata": {},
   "outputs": [],
   "source": [
    "import ray"
   ]
  },
  {
   "cell_type": "code",
   "execution_count": 9,
   "metadata": {},
   "outputs": [
    {
     "data": {
      "text/plain": [
       "ObjectRef(ee4e90da584ab0ebffffffffffffffffffffffff0100000001000000)"
      ]
     },
     "execution_count": 9,
     "metadata": {},
     "output_type": "execute_result"
    },
    {
     "name": "stderr",
     "output_type": "stream",
     "text": [
      "2021-11-14 22:05:44,164\tERROR worker.py:79 -- Unhandled error (suppress with RAY_IGNORE_UNHANDLED_ERRORS=1): \u001b[36mray::run_exec()\u001b[39m (pid=106524, ip=10.160.0.3)\n",
      "  File \"/tmp/ipykernel_105374/3069150239.py\", line 27, in run_exec\n",
      "  File \"/home/varun/RecoEdge/notebooks/../fedrec/multiprocessing/process_manager.py\", line 52, in __init__\n",
      "    ray.init()\n",
      "RuntimeError: Maybe you called ray.init twice by accident? This error can be suppressed by passing in 'ignore_reinit_error=True' or by calling 'ray.shutdown()' prior to 'ray.init()'.\n"
     ]
    }
   ],
   "source": [
    "@ray.remote\n",
    "def run_exec():\n",
    "    import sys\n",
    "    sys.path.append('../')\n",
    "    from fl_strategies.fed_avg import FedAvg\n",
    "    import yaml\n",
    "    from experiments import dlrm \n",
    "    from fl_strategies import fed_avg\n",
    "    from fedrec.utilities.logger import NoOpLogger\n",
    "    from fedrec.python_executors.aggregator import AggregatorConfig\n",
    "\n",
    "    from fedrec.multiprocessing.process_manager import RayProcessManager\n",
    "    from executor import JobExecutor\n",
    "    with open(\"../configs/dlrm_fl.yml\", 'r') as cfg:\n",
    "        config = yaml.load(cfg, Loader=yaml.FullLoader)\n",
    "\n",
    "    ag_config = {\n",
    "            # Seed for RNG used in shuffling the training data.\n",
    "        \"data_seed\" : 100,\n",
    "        # Seed for RNG used in initializing the model.\n",
    "        \"init_seed\" : 100,\n",
    "        # Seed for RNG used in computing the model's training loss.\n",
    "        # Only relevant with internal randomness in the model, e.g. with dropout.\n",
    "        \"model_seed\" : 100\n",
    "    }\n",
    "    aggregator_cfg = AggregatorConfig(**ag_config)\n",
    "    JobExecutor = ray.remote(JobExecutor)\n",
    "    je_Aggregator = JobExecutor.remote(FedAvg,\n",
    "                                    config,\n",
    "                                    aggregator_cfg,\n",
    "                                    NoOpLogger())\n",
    "    je_Aggregator.run.remote()\n",
    "\n",
    "run_exec.remote()"
   ]
  },
  {
   "cell_type": "code",
   "execution_count": 10,
   "metadata": {},
   "outputs": [],
   "source": [
    "ray.shutdown()"
   ]
  },
  {
   "cell_type": "code",
   "execution_count": null,
   "metadata": {},
   "outputs": [],
   "source": [
    "rpm = RayProcessManager()\n",
    "rpm.distribute(JobExecutor, FedAvg.__name__, 1 ,\n",
    "                        FedAvg, config[\"model\"], aggregator_cfg, NoOpLogger())\n",
    "\n",
    "rpm.start(FedAvg.__name__, \"run\")"
   ]
  }
 ],
 "metadata": {
  "language_info": {
   "name": "python"
  },
  "orig_nbformat": 4
 },
 "nbformat": 4,
 "nbformat_minor": 2
}
