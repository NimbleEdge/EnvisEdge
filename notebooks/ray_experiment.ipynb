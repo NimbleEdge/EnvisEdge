{
 "cells": [
  {
   "cell_type": "code",
   "execution_count": 1,
   "metadata": {},
   "outputs": [],
   "source": [
    "import ray\n"
   ]
  },
  {
   "cell_type": "code",
   "execution_count": 3,
   "metadata": {},
   "outputs": [
    {
     "data": {
      "text/plain": [
       "ObjectRef(63964fa4841d4a2e59229e3d057d393869f45ab50100000001000000)"
      ]
     },
     "execution_count": 3,
     "metadata": {},
     "output_type": "execute_result"
    },
    {
     "name": "stdout",
     "output_type": "stream",
     "text": [
      "\u001b[2m\u001b[36m(SimpleClass pid=98259)\u001b[0m 3\n"
     ]
    }
   ],
   "source": [
    "class SimpleClass:\n",
    "    def __init__(self, value):\n",
    "        self.value = value\n",
    "\n",
    "    def increase(self):\n",
    "        self.value += 1\n",
    "        print(self.value)\n",
    "ray.init()      \n",
    "SimpleClass = ray.remote(SimpleClass)\n",
    "obj = SimpleClass.remote(2)\n",
    "obj.increase.remote()\n",
    "getattr(obj, \"increase\").remote()\n",
    "ray.shutdown()"
   ]
  },
  {
   "cell_type": "code",
   "execution_count": 3,
   "metadata": {},
   "outputs": [],
   "source": [
    "import sys\n",
    "sys.path.append('../')\n",
    "from fl_strategies.fed_avg import FedAvg\n",
    "import yaml\n",
    "from fedrec.utilities.logger import NoOpLogger\n",
    "from fedrec.python_executors.aggregator import AggregatorConfig\n",
    "\n",
    "from fedrec.multiprocessing.process_manager import RayProcessManager\n",
    "from executor import JobExecutor\n",
    "with open(\"../configs/dlrm_fl.yml\", 'r') as cfg:\n",
    "    config = yaml.load(cfg, Loader=yaml.FullLoader)\n",
    "\n",
    "ag_config = {\n",
    "        # Seed for RNG used in shuffling the training data.\n",
    "    \"data_seed\" : 100,\n",
    "    # Seed for RNG used in initializing the model.\n",
    "    \"init_seed\" : 100,\n",
    "    # Seed for RNG used in computing the model's training loss.\n",
    "    # Only relevant with internal randomness in the model, e.g. with dropout.\n",
    "    \"model_seed\" : 100\n",
    "}\n",
    "aggregator_cfg = AggregatorConfig(**ag_config)"
   ]
  },
  {
   "cell_type": "code",
   "execution_count": 6,
   "metadata": {},
   "outputs": [
    {
     "name": "stderr",
     "output_type": "stream",
     "text": [
      "\u001b[2m\u001b[36m(pid=102367)\u001b[0m 2021-11-14 21:25:04,646\tERROR serialization.py:270 -- No module named 'fl_strategies'\n",
      "\u001b[2m\u001b[36m(pid=102367)\u001b[0m Traceback (most recent call last):\n",
      "\u001b[2m\u001b[36m(pid=102367)\u001b[0m   File \"/home/varun/miniconda/envs/recoedge/lib/python3.8/site-packages/ray/serialization.py\", line 268, in deserialize_objects\n",
      "\u001b[2m\u001b[36m(pid=102367)\u001b[0m     obj = self._deserialize_object(data, metadata, object_ref)\n",
      "\u001b[2m\u001b[36m(pid=102367)\u001b[0m   File \"/home/varun/miniconda/envs/recoedge/lib/python3.8/site-packages/ray/serialization.py\", line 191, in _deserialize_object\n",
      "\u001b[2m\u001b[36m(pid=102367)\u001b[0m     return self._deserialize_msgpack_data(data, metadata_fields)\n",
      "\u001b[2m\u001b[36m(pid=102367)\u001b[0m   File \"/home/varun/miniconda/envs/recoedge/lib/python3.8/site-packages/ray/serialization.py\", line 169, in _deserialize_msgpack_data\n",
      "\u001b[2m\u001b[36m(pid=102367)\u001b[0m     python_objects = self._deserialize_pickle5_data(pickle5_data)\n",
      "\u001b[2m\u001b[36m(pid=102367)\u001b[0m   File \"/home/varun/miniconda/envs/recoedge/lib/python3.8/site-packages/ray/serialization.py\", line 159, in _deserialize_pickle5_data\n",
      "\u001b[2m\u001b[36m(pid=102367)\u001b[0m     obj = pickle.loads(in_band)\n",
      "\u001b[2m\u001b[36m(pid=102367)\u001b[0m ModuleNotFoundError: No module named 'fl_strategies'\n",
      "\u001b[2m\u001b[36m(pid=102367)\u001b[0m 2021-11-14 21:25:04,647\tERROR serialization.py:270 -- No module named 'fedrec'\n",
      "\u001b[2m\u001b[36m(pid=102367)\u001b[0m Traceback (most recent call last):\n",
      "\u001b[2m\u001b[36m(pid=102367)\u001b[0m   File \"/home/varun/miniconda/envs/recoedge/lib/python3.8/site-packages/ray/serialization.py\", line 268, in deserialize_objects\n",
      "\u001b[2m\u001b[36m(pid=102367)\u001b[0m     obj = self._deserialize_object(data, metadata, object_ref)\n",
      "\u001b[2m\u001b[36m(pid=102367)\u001b[0m   File \"/home/varun/miniconda/envs/recoedge/lib/python3.8/site-packages/ray/serialization.py\", line 191, in _deserialize_object\n",
      "\u001b[2m\u001b[36m(pid=102367)\u001b[0m     return self._deserialize_msgpack_data(data, metadata_fields)\n",
      "\u001b[2m\u001b[36m(pid=102367)\u001b[0m   File \"/home/varun/miniconda/envs/recoedge/lib/python3.8/site-packages/ray/serialization.py\", line 169, in _deserialize_msgpack_data\n",
      "\u001b[2m\u001b[36m(pid=102367)\u001b[0m     python_objects = self._deserialize_pickle5_data(pickle5_data)\n",
      "\u001b[2m\u001b[36m(pid=102367)\u001b[0m   File \"/home/varun/miniconda/envs/recoedge/lib/python3.8/site-packages/ray/serialization.py\", line 159, in _deserialize_pickle5_data\n",
      "\u001b[2m\u001b[36m(pid=102367)\u001b[0m     obj = pickle.loads(in_band)\n",
      "\u001b[2m\u001b[36m(pid=102367)\u001b[0m ModuleNotFoundError: No module named 'fedrec'\n",
      "\u001b[2m\u001b[36m(pid=102367)\u001b[0m 2021-11-14 21:25:04,647\tERROR serialization.py:270 -- No module named 'fedrec'\n",
      "\u001b[2m\u001b[36m(pid=102367)\u001b[0m Traceback (most recent call last):\n",
      "\u001b[2m\u001b[36m(pid=102367)\u001b[0m   File \"/home/varun/miniconda/envs/recoedge/lib/python3.8/site-packages/ray/serialization.py\", line 268, in deserialize_objects\n",
      "\u001b[2m\u001b[36m(pid=102367)\u001b[0m     obj = self._deserialize_object(data, metadata, object_ref)\n",
      "\u001b[2m\u001b[36m(pid=102367)\u001b[0m   File \"/home/varun/miniconda/envs/recoedge/lib/python3.8/site-packages/ray/serialization.py\", line 191, in _deserialize_object\n",
      "\u001b[2m\u001b[36m(pid=102367)\u001b[0m     return self._deserialize_msgpack_data(data, metadata_fields)\n",
      "\u001b[2m\u001b[36m(pid=102367)\u001b[0m   File \"/home/varun/miniconda/envs/recoedge/lib/python3.8/site-packages/ray/serialization.py\", line 169, in _deserialize_msgpack_data\n",
      "\u001b[2m\u001b[36m(pid=102367)\u001b[0m     python_objects = self._deserialize_pickle5_data(pickle5_data)\n",
      "\u001b[2m\u001b[36m(pid=102367)\u001b[0m   File \"/home/varun/miniconda/envs/recoedge/lib/python3.8/site-packages/ray/serialization.py\", line 159, in _deserialize_pickle5_data\n",
      "\u001b[2m\u001b[36m(pid=102367)\u001b[0m     obj = pickle.loads(in_band)\n",
      "\u001b[2m\u001b[36m(pid=102367)\u001b[0m ModuleNotFoundError: No module named 'fedrec'\n",
      "\u001b[2m\u001b[36m(pid=102367)\u001b[0m 2021-11-14 21:25:04,649\tERROR worker.py:425 -- Exception raised in creation task: The actor died because of an error raised in its creation task, \u001b[36mray::JobExecutor.__init__()\u001b[39m (pid=102367, ip=10.160.0.3)\n",
      "\u001b[2m\u001b[36m(pid=102367)\u001b[0m   At least one of the input arguments for this task could not be computed:\n",
      "\u001b[2m\u001b[36m(pid=102367)\u001b[0m ray.exceptions.RaySystemError: System error: No module named 'fl_strategies'\n",
      "\u001b[2m\u001b[36m(pid=102367)\u001b[0m traceback: Traceback (most recent call last):\n",
      "\u001b[2m\u001b[36m(pid=102367)\u001b[0m   File \"/home/varun/miniconda/envs/recoedge/lib/python3.8/site-packages/ray/serialization.py\", line 268, in deserialize_objects\n",
      "\u001b[2m\u001b[36m(pid=102367)\u001b[0m     obj = self._deserialize_object(data, metadata, object_ref)\n",
      "\u001b[2m\u001b[36m(pid=102367)\u001b[0m   File \"/home/varun/miniconda/envs/recoedge/lib/python3.8/site-packages/ray/serialization.py\", line 191, in _deserialize_object\n",
      "\u001b[2m\u001b[36m(pid=102367)\u001b[0m     return self._deserialize_msgpack_data(data, metadata_fields)\n",
      "\u001b[2m\u001b[36m(pid=102367)\u001b[0m   File \"/home/varun/miniconda/envs/recoedge/lib/python3.8/site-packages/ray/serialization.py\", line 169, in _deserialize_msgpack_data\n",
      "\u001b[2m\u001b[36m(pid=102367)\u001b[0m     python_objects = self._deserialize_pickle5_data(pickle5_data)\n",
      "\u001b[2m\u001b[36m(pid=102367)\u001b[0m   File \"/home/varun/miniconda/envs/recoedge/lib/python3.8/site-packages/ray/serialization.py\", line 159, in _deserialize_pickle5_data\n",
      "\u001b[2m\u001b[36m(pid=102367)\u001b[0m     obj = pickle.loads(in_band)\n",
      "\u001b[2m\u001b[36m(pid=102367)\u001b[0m ModuleNotFoundError: No module named 'fl_strategies'\n"
     ]
    }
   ],
   "source": [
    "try:\n",
    "    ray.init()\n",
    "except Exception as e:\n",
    "    ray.shutdown()\n",
    "    ray.init()\n",
    "    \n",
    "JobExecutor = ray.remote(JobExecutor)\n",
    "je_Aggregator = JobExecutor.remote(FedAvg,\n",
    "                                   config[\"model\"],\n",
    "                                   aggregator_cfg,\n",
    "                                   NoOpLogger())\n"
   ]
  },
  {
   "cell_type": "code",
   "execution_count": 4,
   "metadata": {},
   "outputs": [
    {
     "ename": "KeyError",
     "evalue": "'FedAvg'",
     "output_type": "error",
     "traceback": [
      "\u001b[0;31m---------------------------------------------------------------------------\u001b[0m",
      "\u001b[0;31mKeyError\u001b[0m                                  Traceback (most recent call last)",
      "\u001b[0;32m/tmp/ipykernel_98654/2691083341.py\u001b[0m in \u001b[0;36m<module>\u001b[0;34m\u001b[0m\n\u001b[1;32m      1\u001b[0m \u001b[0mrpm\u001b[0m \u001b[0;34m=\u001b[0m \u001b[0mRayProcessManager\u001b[0m\u001b[0;34m(\u001b[0m\u001b[0;34m)\u001b[0m\u001b[0;34m\u001b[0m\u001b[0;34m\u001b[0m\u001b[0m\n\u001b[0;32m----> 2\u001b[0;31m rpm.distribute(JobExecutor, FedAvg.__name__,\n\u001b[0m\u001b[1;32m      3\u001b[0m                             \u001b[0mconfig\u001b[0m\u001b[0;34m[\u001b[0m\u001b[0;34m\"multiprocessing\"\u001b[0m\u001b[0;34m]\u001b[0m\u001b[0;34m[\u001b[0m\u001b[0;34m\"num_aggregators\"\u001b[0m\u001b[0;34m]\u001b[0m\u001b[0;34m,\u001b[0m\u001b[0;34m\u001b[0m\u001b[0;34m\u001b[0m\u001b[0m\n\u001b[1;32m      4\u001b[0m                             FedAvg, config[\"model\"], aggregator_cfg, NoOpLogger())\n\u001b[1;32m      5\u001b[0m \u001b[0;34m\u001b[0m\u001b[0m\n",
      "\u001b[0;32m~/RecoEdge/notebooks/../fedrec/multiprocessing/process_manager.py\u001b[0m in \u001b[0;36mdistribute\u001b[0;34m(self, runnable, type, num_instances, *args, **kwargs)\u001b[0m\n\u001b[1;32m     55\u001b[0m         new_runs = [dist_runnable.remote(*args, **kwargs)\n\u001b[1;32m     56\u001b[0m                     for _ in range(num_instances)]\n\u001b[0;32m---> 57\u001b[0;31m         \u001b[0mself\u001b[0m\u001b[0;34m.\u001b[0m\u001b[0mworkers\u001b[0m\u001b[0;34m[\u001b[0m\u001b[0mtype\u001b[0m\u001b[0;34m]\u001b[0m \u001b[0;34m+=\u001b[0m \u001b[0mnew_runs\u001b[0m\u001b[0;34m\u001b[0m\u001b[0;34m\u001b[0m\u001b[0m\n\u001b[0m\u001b[1;32m     58\u001b[0m \u001b[0;34m\u001b[0m\u001b[0m\n\u001b[1;32m     59\u001b[0m     \u001b[0;32mdef\u001b[0m \u001b[0mstart\u001b[0m\u001b[0;34m(\u001b[0m\u001b[0mself\u001b[0m\u001b[0;34m,\u001b[0m \u001b[0mrunnable_type\u001b[0m\u001b[0;34m,\u001b[0m \u001b[0mmethod\u001b[0m\u001b[0;34m,\u001b[0m \u001b[0;34m*\u001b[0m\u001b[0margs\u001b[0m\u001b[0;34m,\u001b[0m \u001b[0;34m**\u001b[0m\u001b[0mkwargs\u001b[0m\u001b[0;34m)\u001b[0m \u001b[0;34m->\u001b[0m \u001b[0;32mNone\u001b[0m\u001b[0;34m:\u001b[0m\u001b[0;34m\u001b[0m\u001b[0;34m\u001b[0m\u001b[0m\n",
      "\u001b[0;31mKeyError\u001b[0m: 'FedAvg'"
     ]
    },
    {
     "name": "stderr",
     "output_type": "stream",
     "text": [
      "\u001b[2m\u001b[36m(pid=101966)\u001b[0m 2021-11-14 21:18:11,629\tERROR serialization.py:270 -- No module named 'fl_strategies'\n",
      "\u001b[2m\u001b[36m(pid=101966)\u001b[0m Traceback (most recent call last):\n",
      "\u001b[2m\u001b[36m(pid=101966)\u001b[0m   File \"/home/varun/miniconda/envs/recoedge/lib/python3.8/site-packages/ray/serialization.py\", line 268, in deserialize_objects\n",
      "\u001b[2m\u001b[36m(pid=101966)\u001b[0m     obj = self._deserialize_object(data, metadata, object_ref)\n",
      "\u001b[2m\u001b[36m(pid=101966)\u001b[0m   File \"/home/varun/miniconda/envs/recoedge/lib/python3.8/site-packages/ray/serialization.py\", line 191, in _deserialize_object\n",
      "\u001b[2m\u001b[36m(pid=101966)\u001b[0m     return self._deserialize_msgpack_data(data, metadata_fields)\n",
      "\u001b[2m\u001b[36m(pid=101966)\u001b[0m   File \"/home/varun/miniconda/envs/recoedge/lib/python3.8/site-packages/ray/serialization.py\", line 169, in _deserialize_msgpack_data\n",
      "\u001b[2m\u001b[36m(pid=101966)\u001b[0m     python_objects = self._deserialize_pickle5_data(pickle5_data)\n",
      "\u001b[2m\u001b[36m(pid=101966)\u001b[0m   File \"/home/varun/miniconda/envs/recoedge/lib/python3.8/site-packages/ray/serialization.py\", line 159, in _deserialize_pickle5_data\n",
      "\u001b[2m\u001b[36m(pid=101966)\u001b[0m     obj = pickle.loads(in_band)\n",
      "\u001b[2m\u001b[36m(pid=101966)\u001b[0m ModuleNotFoundError: No module named 'fl_strategies'\n",
      "\u001b[2m\u001b[36m(pid=101966)\u001b[0m 2021-11-14 21:18:11,630\tERROR serialization.py:270 -- No module named 'fedrec'\n",
      "\u001b[2m\u001b[36m(pid=101966)\u001b[0m Traceback (most recent call last):\n",
      "\u001b[2m\u001b[36m(pid=101966)\u001b[0m   File \"/home/varun/miniconda/envs/recoedge/lib/python3.8/site-packages/ray/serialization.py\", line 268, in deserialize_objects\n",
      "\u001b[2m\u001b[36m(pid=101966)\u001b[0m     obj = self._deserialize_object(data, metadata, object_ref)\n",
      "\u001b[2m\u001b[36m(pid=101966)\u001b[0m   File \"/home/varun/miniconda/envs/recoedge/lib/python3.8/site-packages/ray/serialization.py\", line 191, in _deserialize_object\n",
      "\u001b[2m\u001b[36m(pid=101966)\u001b[0m     return self._deserialize_msgpack_data(data, metadata_fields)\n",
      "\u001b[2m\u001b[36m(pid=101966)\u001b[0m   File \"/home/varun/miniconda/envs/recoedge/lib/python3.8/site-packages/ray/serialization.py\", line 169, in _deserialize_msgpack_data\n",
      "\u001b[2m\u001b[36m(pid=101966)\u001b[0m     python_objects = self._deserialize_pickle5_data(pickle5_data)\n",
      "\u001b[2m\u001b[36m(pid=101966)\u001b[0m   File \"/home/varun/miniconda/envs/recoedge/lib/python3.8/site-packages/ray/serialization.py\", line 159, in _deserialize_pickle5_data\n",
      "\u001b[2m\u001b[36m(pid=101966)\u001b[0m     obj = pickle.loads(in_band)\n",
      "\u001b[2m\u001b[36m(pid=101966)\u001b[0m ModuleNotFoundError: No module named 'fedrec'\n",
      "\u001b[2m\u001b[36m(pid=101966)\u001b[0m 2021-11-14 21:18:11,631\tERROR serialization.py:270 -- No module named 'fedrec'\n",
      "\u001b[2m\u001b[36m(pid=101966)\u001b[0m Traceback (most recent call last):\n",
      "\u001b[2m\u001b[36m(pid=101966)\u001b[0m   File \"/home/varun/miniconda/envs/recoedge/lib/python3.8/site-packages/ray/serialization.py\", line 268, in deserialize_objects\n",
      "\u001b[2m\u001b[36m(pid=101966)\u001b[0m     obj = self._deserialize_object(data, metadata, object_ref)\n",
      "\u001b[2m\u001b[36m(pid=101966)\u001b[0m   File \"/home/varun/miniconda/envs/recoedge/lib/python3.8/site-packages/ray/serialization.py\", line 191, in _deserialize_object\n",
      "\u001b[2m\u001b[36m(pid=101966)\u001b[0m     return self._deserialize_msgpack_data(data, metadata_fields)\n",
      "\u001b[2m\u001b[36m(pid=101966)\u001b[0m   File \"/home/varun/miniconda/envs/recoedge/lib/python3.8/site-packages/ray/serialization.py\", line 169, in _deserialize_msgpack_data\n",
      "\u001b[2m\u001b[36m(pid=101966)\u001b[0m     python_objects = self._deserialize_pickle5_data(pickle5_data)\n",
      "\u001b[2m\u001b[36m(pid=101966)\u001b[0m   File \"/home/varun/miniconda/envs/recoedge/lib/python3.8/site-packages/ray/serialization.py\", line 159, in _deserialize_pickle5_data\n",
      "\u001b[2m\u001b[36m(pid=101966)\u001b[0m     obj = pickle.loads(in_band)\n",
      "\u001b[2m\u001b[36m(pid=101966)\u001b[0m ModuleNotFoundError: No module named 'fedrec'\n",
      "\u001b[2m\u001b[36m(pid=101966)\u001b[0m 2021-11-14 21:18:11,632\tERROR worker.py:425 -- Exception raised in creation task: The actor died because of an error raised in its creation task, \u001b[36mray::JobExecutor.__init__()\u001b[39m (pid=101966, ip=10.160.0.3)\n",
      "\u001b[2m\u001b[36m(pid=101966)\u001b[0m   At least one of the input arguments for this task could not be computed:\n",
      "\u001b[2m\u001b[36m(pid=101966)\u001b[0m ray.exceptions.RaySystemError: System error: No module named 'fl_strategies'\n",
      "\u001b[2m\u001b[36m(pid=101966)\u001b[0m traceback: Traceback (most recent call last):\n",
      "\u001b[2m\u001b[36m(pid=101966)\u001b[0m   File \"/home/varun/miniconda/envs/recoedge/lib/python3.8/site-packages/ray/serialization.py\", line 268, in deserialize_objects\n",
      "\u001b[2m\u001b[36m(pid=101966)\u001b[0m     obj = self._deserialize_object(data, metadata, object_ref)\n",
      "\u001b[2m\u001b[36m(pid=101966)\u001b[0m   File \"/home/varun/miniconda/envs/recoedge/lib/python3.8/site-packages/ray/serialization.py\", line 191, in _deserialize_object\n",
      "\u001b[2m\u001b[36m(pid=101966)\u001b[0m     return self._deserialize_msgpack_data(data, metadata_fields)\n",
      "\u001b[2m\u001b[36m(pid=101966)\u001b[0m   File \"/home/varun/miniconda/envs/recoedge/lib/python3.8/site-packages/ray/serialization.py\", line 169, in _deserialize_msgpack_data\n",
      "\u001b[2m\u001b[36m(pid=101966)\u001b[0m     python_objects = self._deserialize_pickle5_data(pickle5_data)\n",
      "\u001b[2m\u001b[36m(pid=101966)\u001b[0m   File \"/home/varun/miniconda/envs/recoedge/lib/python3.8/site-packages/ray/serialization.py\", line 159, in _deserialize_pickle5_data\n",
      "\u001b[2m\u001b[36m(pid=101966)\u001b[0m     obj = pickle.loads(in_band)\n",
      "\u001b[2m\u001b[36m(pid=101966)\u001b[0m ModuleNotFoundError: No module named 'fl_strategies'\n"
     ]
    }
   ],
   "source": [
    "rpm = RayProcessManager()\n",
    "rpm.distribute(JobExecutor, FedAvg.__name__, 1 ,\n",
    "                            FedAvg, config[\"model\"], aggregator_cfg, NoOpLogger())\n",
    "\n",
    "rpm.start(FedAvg.__name__, \"run\")"
   ]
  },
  {
   "cell_type": "code",
   "execution_count": 5,
   "metadata": {},
   "outputs": [],
   "source": [
    "ray.shutdown()"
   ]
  }
 ],
 "metadata": {
  "language_info": {
   "name": "python"
  },
  "orig_nbformat": 4
 },
 "nbformat": 4,
 "nbformat_minor": 2
}
