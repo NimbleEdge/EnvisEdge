{
 "cells": [
  {
   "cell_type": "code",
   "execution_count": 10,
   "id": "46abb77e-d6d2-456a-8737-7058e12d3e72",
   "metadata": {},
   "outputs": [],
   "source": [
    "from producer import Producer\n",
    "from time import sleep"
   ]
  },
  {
   "cell_type": "code",
   "execution_count": 2,
   "id": "d49e8741-5872-4006-aa02-8d2aa661b330",
   "metadata": {},
   "outputs": [],
   "source": [
    "producer = Producer()"
   ]
  },
  {
   "cell_type": "code",
   "execution_count": 3,
   "id": "12a9b246-4dbd-41bd-ace1-50fea19f08cf",
   "metadata": {},
   "outputs": [],
   "source": [
    "class message:\n",
    "    def __init__(self, token):\n",
    "        self.token = token\n",
    "        \n",
    "    def JOB_TYPE(self):\n",
    "        return self.token"
   ]
  },
  {
   "cell_type": "code",
   "execution_count": 4,
   "id": "908dbb1c-c457-4002-8a2e-435190a266af",
   "metadata": {},
   "outputs": [],
   "source": [
    "token = \"STOP\"\n",
    "message = message(token)"
   ]
  },
  {
   "cell_type": "code",
   "execution_count": 7,
   "id": "a7b60e6b-8373-4250-901b-adcf21c513a6",
   "metadata": {},
   "outputs": [],
   "source": [
    "message = {'JOB_TYPE': 'STOP'}"
   ]
  },
  {
   "cell_type": "code",
   "execution_count": null,
   "id": "ba4464c1-637b-47fc-adf6-e0295290e3d6",
   "metadata": {},
   "outputs": [],
   "source": [
    "for i in range(500):\n",
    "    producer.send_message(message)\n",
    "    sleep(5)"
   ]
  },
  {
   "cell_type": "code",
   "execution_count": null,
   "id": "df8a03b8-8841-4e90-a3f4-8654e676b19a",
   "metadata": {},
   "outputs": [],
   "source": []
  }
 ],
 "metadata": {
  "kernelspec": {
   "display_name": "Python 3 (ipykernel)",
   "language": "python",
   "name": "python3"
  },
  "language_info": {
   "codemirror_mode": {
    "name": "ipython",
    "version": 3
   },
   "file_extension": ".py",
   "mimetype": "text/x-python",
   "name": "python",
   "nbconvert_exporter": "python",
   "pygments_lexer": "ipython3",
   "version": "3.9.7"
  }
 },
 "nbformat": 4,
 "nbformat_minor": 5
}
